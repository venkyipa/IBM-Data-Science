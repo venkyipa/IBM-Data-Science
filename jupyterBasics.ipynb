{
 "cells": [
  {
   "cell_type": "markdown",
   "id": "1f79491b",
   "metadata": {},
   "source": [
    "## Venkata Nagendra Reddy Suda Notebook"
   ]
  },
  {
   "cell_type": "markdown",
   "id": "fb5b5cfe",
   "metadata": {},
   "source": [
    "**Introduction** This is a public notebook demonstrating  basic tools in data science."
   ]
  },
  {
   "cell_type": "markdown",
   "id": "e6ccec2f",
   "metadata": {},
   "source": [
    "** Languages in data science** include but are not limited to **Python** **R** and **Julia**.\n"
   ]
  },
  {
   "cell_type": "markdown",
   "id": "5ee76c8f",
   "metadata": {},
   "source": [
    "Data science libraries include Numpy, Pytorch, Scikit-Learn, Keras, Pandas, Seaborn, etc."
   ]
  },
  {
   "cell_type": "markdown",
   "id": "0dcde692",
   "metadata": {},
   "source": [
    "**Python** has value operands and logic operands. ** + - / // % are value operands. AND OR are  logic operands"
   ]
  },
  {
   "cell_type": "code",
   "execution_count": 1,
   "id": "c5eaa0ce",
   "metadata": {},
   "outputs": [
    {
     "name": "stdout",
     "output_type": "stream",
     "text": [
      "num 1 = 156.\n",
      "num 2 = 25.\n"
     ]
    }
   ],
   "source": [
    "num1 = 12 * 13\n",
    "num2 = 12 + 13\n",
    "print(f\"num 1 = {num1}.\")\n",
    "print(f\"num 2 = {num2}.\")"
   ]
  },
  {
   "cell_type": "code",
   "execution_count": 2,
   "id": "017e4b1e",
   "metadata": {},
   "outputs": [
    {
     "name": "stdout",
     "output_type": "stream",
     "text": [
      "130 minutes is 2.17 hours.\n"
     ]
    }
   ],
   "source": [
    "def convertMinutesToHours (minutes):\n",
    "    hour = minutes / 60\n",
    "    hour = round(hour, 2)\n",
    "    return hour\n",
    "minutes = 130\n",
    "print(f\"{minutes} minutes is {convertMinutesToHours(minutes=minutes)} hours.\")"
   ]
  },
  {
   "cell_type": "markdown",
   "id": "40d952aa",
   "metadata": {},
   "source": [
    "**Personal Goals and Objectives**\n",
    "1. Finish  undergrad\n",
    "2. Pursue a masters degree in stat/data science\n",
    "3. Migrate to a new country\n"
   ]
  },
  {
   "cell_type": "code",
   "execution_count": null,
   "id": "97dcc5d2",
   "metadata": {},
   "outputs": [],
   "source": [
    "**Note** This notebook will be public on GitHub."
   ]
  }
 ],
 "metadata": {
  "kernelspec": {
   "display_name": "base",
   "language": "python",
   "name": "python3"
  },
  "language_info": {
   "codemirror_mode": {
    "name": "ipython",
    "version": 3
   },
   "file_extension": ".py",
   "mimetype": "text/x-python",
   "name": "python",
   "nbconvert_exporter": "python",
   "pygments_lexer": "ipython3",
   "version": "3.9.23"
  }
 },
 "nbformat": 4,
 "nbformat_minor": 5
}
